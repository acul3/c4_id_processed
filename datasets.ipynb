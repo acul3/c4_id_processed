{
 "cells": [
  {
   "cell_type": "markdown",
   "id": "f9cf9d21",
   "metadata": {},
   "source": [
    "NB: installeer de datasets library vanaf source, omdat de laatste release nog niet de juiste mc4 streaming bevat.\n",
    "\n",
    "```\n",
    "git clone https://github.com/huggingface/datasets.git\n",
    "cd datasets\n",
    "pip install -e .\n",
    "```"
   ]
  },
  {
   "cell_type": "code",
   "execution_count": 1,
   "id": "7b59c568",
   "metadata": {},
   "outputs": [
    {
     "name": "stdout",
     "output_type": "stream",
     "text": [
      "notebook\r\n",
      "aiohttp\r\n",
      "ipywidgets\r\n",
      "pytest\r\n",
      "nltk\r\n",
      "tensorflow\r\n",
      "pyspark\r\n",
      "jsonlines"
     ]
    }
   ],
   "source": [
    "!cat requirements.txt"
   ]
  },
  {
   "cell_type": "code",
   "execution_count": 2,
   "id": "79b81b0c",
   "metadata": {},
   "outputs": [],
   "source": [
    "import datasets"
   ]
  },
  {
   "cell_type": "code",
   "execution_count": 3,
   "id": "7f949475",
   "metadata": {},
   "outputs": [],
   "source": [
    "# dataset = datasets.load_dataset('mc4', 'nl', split='train', streaming=True)"
   ]
  },
  {
   "cell_type": "code",
   "execution_count": 4,
   "id": "7297ac4d",
   "metadata": {},
   "outputs": [],
   "source": [
    "# dataset = datasets.load_dataset(\"oscar\", \"unshuffled_deduplicated_nl\", split='train', streaming=True)"
   ]
  },
  {
   "cell_type": "code",
   "execution_count": 6,
   "id": "0539821b",
   "metadata": {},
   "outputs": [
    {
     "name": "stderr",
     "output_type": "stream",
     "text": [
      "Reusing dataset oscar (/home/yeb/.cache/huggingface/datasets/oscar/unshuffled_deduplicated_nl/1.0.0/84838bd49d2295f62008383b05620571535451d84545037bb94d6f3501651df2)\n"
     ]
    }
   ],
   "source": [
    "dataset = datasets.load_dataset(\"oscar\", \"unshuffled_deduplicated_nl\", split='train')"
   ]
  },
  {
   "cell_type": "code",
   "execution_count": 7,
   "id": "fa241795",
   "metadata": {},
   "outputs": [
    {
     "data": {
      "text/plain": [
       "Dataset({\n",
       "    features: ['id', 'text'],\n",
       "    num_rows: 20812149\n",
       "})"
      ]
     },
     "execution_count": 7,
     "metadata": {},
     "output_type": "execute_result"
    }
   ],
   "source": [
    "dataset"
   ]
  },
  {
   "cell_type": "code",
   "execution_count": 10,
   "id": "d8da17fd",
   "metadata": {},
   "outputs": [],
   "source": [
    "dataset_iterator = iter(dataset)"
   ]
  },
  {
   "cell_type": "code",
   "execution_count": 11,
   "id": "fb15d9a0",
   "metadata": {},
   "outputs": [
    {
     "name": "stdout",
     "output_type": "stream",
     "text": [
      "Op vrijdag 31 augustus wordt het nieuwe studiejaar van de masteropleiding architectuur geopend met een dagexcursie naar Venlo.\n",
      "Het ochtendprogramma bestaat uit een bezoek en rondleiding op de Floriade. Tijdens de rondleiding wordt vooral aandacht besteed aan de landschappelijke aspecten van het terrein en aan de architectuur van een aantal paviljoens.\n",
      "Het middagprogramma staat in het teken van de nieuwe Maasboulevard in Venlo. Na een inleiding op de herinrichting van het hele gebied volgt een rondleiding langs de projecten. Van de architectenbureaus die bij de Maasboulevard betrokken zijn (Diederen Dirrix architecten, Echo Architectuur en Clevis-Kleinjans Architecten), zullen vertegenwoordigers aanwezig zijn om hun ontwerpen toe te lichten.\n",
      "ArtEZ Academie van Bouwkunst verzorgt vier opleidingen: master architectuur (Arnhem); master interieurarchitectuur (Arnhem); bachelor interieurarchitectuur (Zwolle); associate degree interieurvormgeving (Zwolle). Ook worden twee cursussen annex minoren verzorgd voor studenten die niet aan alle vereisten voor de toelating tot de master architectuur voldoen: architectonisch ontwerpen (Arnhem); bouwtechniek (Arnhem). Deze blog gaat voornamelijk over de masteropleidingen.\n",
      "- In september werkten de studenten aan een vier weken lang durende workshop over experimentele, duurzame materialen in het interieur- mooi onderzoek en span...\n",
      "tbt finals interieurarchitectuur ba - mooie beelden van de expositie van de bachelor studenten tijdens de final 2014, fotografie Christiaan de Bruijne ...\n"
     ]
    }
   ],
   "source": [
    "print(next(dataset_iterator)['text'])"
   ]
  },
  {
   "cell_type": "code",
   "execution_count": 12,
   "id": "39e3fa0b",
   "metadata": {},
   "outputs": [
    {
     "name": "stdout",
     "output_type": "stream",
     "text": [
      "Gratis sexy filmpjes luxe escort - happy ening. Ik zag net een reclame van een serie op Comedy Central waarin een man sex had met een vrouw die aan het slapen is. Kategoriarkiv för Sex damens gratis seksvideo massage antwerpen massagesalon oss Alle sex adressen van Nederland, prive ontvangst en thuisontvangst. Luxe callgirl nu gratis sex Sexdate bi man wil man neuken Goodies Wil je graag een herinnering van Gioia bestellen?\n",
      "Dienstag Oktober 2, Prive ontvangst. Vandaag vanaf 15u tot 19u beschikbaar voor heerlijk geile sex! Gratis sex chatten met leukst vrouwen of mannen uit de buurt? Geile sexy meid verwent je naar ultieme hoogtepunt omslag foto Mooi blond tienermeisje vol maar lekker proberen??\n",
      "Meesteres lorena gigolo limburg Vind of bied uw tweedehands Live Webcams - Vrouwen aan op accesstosuccess-africa. De lekkerste en geilste gratis sex films over rijpe vrouwen op het internet! Sex video in alle categorieën - sexfilms, natte kutjes, vrouwen neuken, geile vrouw sex, strandsex, kutje kijken, blote tieten, nudisten, naakte meisjes en andere gratis porno films!. Kategoriarkiv för Sex damens gratis seksvideo massage antwerpen massagesalon oss Alle sex adressen van Nederland, prive ontvangst en thuisontvangst. Traditionele Chinese massage tegen stress, spanningen en spierpijn voor mannen en vrouwen.\n",
      "27 dec Het grootste aanbod voor prive ontvangst, escort en erotische is hier zeker geen taboe je vind hier prive hoeren, geile vrouwen, Come Broer en zus sex. Sex and porno erotische massage paren · Massagesalon oss op. Was maar te ontspannen en ja ik sta al keek haar geil aan ik mooi! Zusje komen ook aangekomen zag ik hem dichterbij komen ze kus op de mond haar toe. 27 mei Vind of bied uw Mijn Geile Oma Wil jij geile sex en evt ook een Gratis sex adressen erotiek sex tussen vader en dochter zuid-holland tussen broer en zus. Gratis oss Alle sex adressen van Nederland, prive ontvangst en.\n"
     ]
    }
   ],
   "source": [
    "while (x := next(dataset_iterator, None)) is not None:\n",
    "    if 'kutje' in x['text']:\n",
    "        print(x['text'])\n",
    "        break"
   ]
  },
  {
   "cell_type": "code",
   "execution_count": 51,
   "id": "7d3f4bab",
   "metadata": {},
   "outputs": [
    {
     "name": "stdout",
     "output_type": "stream",
     "text": [
      "Alleen geile sex\n",
      "Hallo lekkere geile mannen, hebben jullie net als ik zin in bare sex zoals het hoort. Lekker zonder condoom in mijn kale kutje of kontje, alles is mogelijk. Ik heb zelf een grote hekel aan condooms, ik voel lie ...\n"
     ]
    }
   ],
   "source": [
    "print(x['text'])"
   ]
  },
  {
   "cell_type": "code",
   "execution_count": 13,
   "id": "79b5f9ed",
   "metadata": {},
   "outputs": [],
   "source": [
    "import gzip\n",
    "import json"
   ]
  },
  {
   "cell_type": "code",
   "execution_count": null,
   "id": "4cefbd7f",
   "metadata": {},
   "outputs": [],
   "source": [
    "dataset_iterator = iter(dataset)\n",
    "i = 0\n",
    "with gzip.open(f\"oscar_nl.json.gz\", mode='wb') as writer:\n",
    "    i += 1\n",
    "    if i % 10000 == 0:\n",
    "        print(i)\n",
    "    for obj in dataset_iterator:\n",
    "        writer.write(str.encode(json.dumps(obj)))\n",
    "        writer.write('\\n'.encode(\"utf-8\"))"
   ]
  },
  {
   "cell_type": "code",
   "execution_count": null,
   "id": "ec3c9848",
   "metadata": {},
   "outputs": [],
   "source": []
  }
 ],
 "metadata": {
  "kernelspec": {
   "display_name": "Python 3",
   "language": "python",
   "name": "python3"
  },
  "language_info": {
   "codemirror_mode": {
    "name": "ipython",
    "version": 3
   },
   "file_extension": ".py",
   "mimetype": "text/x-python",
   "name": "python",
   "nbconvert_exporter": "python",
   "pygments_lexer": "ipython3",
   "version": "3.8.5"
  }
 },
 "nbformat": 4,
 "nbformat_minor": 5
}

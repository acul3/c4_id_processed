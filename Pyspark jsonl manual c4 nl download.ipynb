{
 "cells": [
  {
   "cell_type": "code",
   "execution_count": 51,
   "id": "735f1f79",
   "metadata": {},
   "outputs": [
    {
     "data": {
      "text/html": [
       "<style>.container { width:100% !important; }</style>"
      ],
      "text/plain": [
       "<IPython.core.display.HTML object>"
      ]
     },
     "metadata": {},
     "output_type": "display_data"
    }
   ],
   "source": [
    "from IPython.core.display import display, HTML\n",
    "display(HTML(\"<style>.container { width:100% !important; }</style>\"))"
   ]
  },
  {
   "cell_type": "code",
   "execution_count": 1,
   "id": "e8164044",
   "metadata": {},
   "outputs": [],
   "source": [
    "from pyspark.ml.feature import Tokenizer"
   ]
  },
  {
   "cell_type": "code",
   "execution_count": 2,
   "id": "83199941",
   "metadata": {},
   "outputs": [],
   "source": [
    "from pyspark.ml.feature import CountVectorizer"
   ]
  },
  {
   "cell_type": "code",
   "execution_count": 3,
   "id": "01a719bc",
   "metadata": {},
   "outputs": [],
   "source": [
    "from pyspark.ml.feature import MinHashLSH\n",
    "from pyspark.ml.feature import BucketedRandomProjectionLSH"
   ]
  },
  {
   "cell_type": "code",
   "execution_count": 4,
   "id": "18a18be9",
   "metadata": {},
   "outputs": [],
   "source": [
    "from pyspark.sql.functions import col, array, lit, length"
   ]
  },
  {
   "cell_type": "code",
   "execution_count": 89,
   "id": "7b0272af",
   "metadata": {},
   "outputs": [
    {
     "name": "stdout",
     "output_type": "stream",
     "text": [
      "\r\n"
     ]
    }
   ],
   "source": [
    "!echo $JAVA_HOME"
   ]
  },
  {
   "cell_type": "code",
   "execution_count": 5,
   "id": "ff299f07",
   "metadata": {},
   "outputs": [],
   "source": [
    "# from pyspark.context import SparkContext"
   ]
  },
  {
   "cell_type": "code",
   "execution_count": 6,
   "id": "10b7e661",
   "metadata": {
    "scrolled": true
   },
   "outputs": [
    {
     "name": "stderr",
     "output_type": "stream",
     "text": [
      "21/07/03 15:52:49 WARN Utils: Your hostname, wsy resolves to a loopback address: 127.0.1.1; using 10.1.0.140 instead (on interface enp34s0)\n",
      "21/07/03 15:52:49 WARN Utils: Set SPARK_LOCAL_IP if you need to bind to another address\n",
      "WARNING: An illegal reflective access operation has occurred\n",
      "WARNING: Illegal reflective access by org.apache.spark.unsafe.Platform (file:/usr/local/spark/jars/spark-unsafe_2.12-3.1.1.jar) to constructor java.nio.DirectByteBuffer(long,int)\n",
      "WARNING: Please consider reporting this to the maintainers of org.apache.spark.unsafe.Platform\n",
      "WARNING: Use --illegal-access=warn to enable warnings of further illegal reflective access operations\n",
      "WARNING: All illegal access operations will be denied in a future release\n",
      "21/07/03 15:52:50 WARN NativeCodeLoader: Unable to load native-hadoop library for your platform... using builtin-java classes where applicable\n",
      "Using Spark's default log4j profile: org/apache/spark/log4j-defaults.properties\n",
      "Setting default log level to \"WARN\".\n",
      "To adjust logging level use sc.setLogLevel(newLevel). For SparkR, use setLogLevel(newLevel).\n"
     ]
    }
   ],
   "source": [
    "from pyspark.sql import SparkSession\n",
    "\n",
    "# logging.getLogger(\"py4j.java_gateway\").setLevel(logging.ERROR)\n",
    "spark = (\n",
    "    SparkSession.builder\n",
    "    .config(\"spark.driver.memory\", \"15g\") \n",
    "    .getOrCreate()\n",
    ")\n",
    "# spark.sparkContext.setLogLevel(args.spark_log_level)"
   ]
  },
  {
   "cell_type": "code",
   "execution_count": 7,
   "id": "195dc829",
   "metadata": {},
   "outputs": [],
   "source": [
    "sc = spark.sparkContext"
   ]
  },
  {
   "cell_type": "code",
   "execution_count": 8,
   "id": "0961e06a",
   "metadata": {},
   "outputs": [],
   "source": [
    "file=\"c4-nl.tfrecord-00000-of-01024.json.gz\""
   ]
  },
  {
   "cell_type": "code",
   "execution_count": 9,
   "id": "a67dc5da",
   "metadata": {},
   "outputs": [],
   "source": [
    "path=\"/media/yeb/NLP datasets/mc4/c4/multilingual\""
   ]
  },
  {
   "cell_type": "code",
   "execution_count": 62,
   "id": "b101d37b",
   "metadata": {},
   "outputs": [
    {
     "name": "stderr",
     "output_type": "stream",
     "text": [
      "                                                                                \r"
     ]
    }
   ],
   "source": [
    "df = spark.read.json(f\"{path}/{file}\")"
   ]
  },
  {
   "cell_type": "code",
   "execution_count": 63,
   "id": "ed0d09b4",
   "metadata": {},
   "outputs": [
    {
     "name": "stdout",
     "output_type": "stream",
     "text": [
      "+--------------------+--------------------+--------------------+\n",
      "|                text|           timestamp|                 url|\n",
      "+--------------------+--------------------+--------------------+\n",
      "|Vijf gouden tips ...|2019-02-22T15:37:25Z|https://ondernemi...|\n",
      "|CuracaoNieuws | G...|2020-01-29T03:25:31Z|https://www.knips...|\n",
      "|Nationaal Zwemcen...|2017-07-26T03:02:32Z|http://likealyzer...|\n",
      "|Interim-managemen...|2020-04-01T21:11:42Z|http://www.interi...|\n",
      "|Vastgoedbeheerder...|2019-10-14T10:47:53Z|https://vastgoedb...|\n",
      "|dag 11 | WorldSup...|2020-08-15T01:30:29Z|https://www.world...|\n",
      "|@Pierre Le Blanc#...|2020-07-02T22:18:51Z|http://nakoersen....|\n",
      "|Henk Wieland (Ond...|2019-02-21T06:37:48Z|https://lentseluc...|\n",
      "|Gamed.nl - Korte ...|2020-08-11T00:20:12Z|https://www.gamed...|\n",
      "|GR - CORBION - 6/...|2016-10-28T08:22:03Z|http://www.belgie...|\n",
      "|Informatiebijeenk...|2018-08-18T09:01:23Z|https://oncologie...|\n",
      "|Onderooglidcorrec...|2019-07-22T18:10:54Z|https://www.dokte...|\n",
      "|Kwark exotic – Pu...|2020-08-07T09:04:46Z|https://www.puur-...|\n",
      "|Kia Sportage 1.6 ...|2019-11-17T21:19:25Z|https://www.autow...|\n",
      "|Chloe Signature E...|2019-01-17T01:31:57Z|https://www.onlin...|\n",
      "|De hindoeïstische...|2020-02-20T11:14:30Z|https://www.agczk...|\n",
      "|Sonorex RK1028C -...|2020-04-07T07:51:15Z|https://djaky.com...|\n",
      "|Zie je wel genoeg...|2019-08-20T15:48:13Z|https://www.feest...|\n",
      "|Bol.com en Sony s...|2017-10-18T22:25:55Z|http://www.dutchc...|\n",
      "|Boeken, Films & M...|2018-05-23T01:29:34Z|http://www.kortin...|\n",
      "+--------------------+--------------------+--------------------+\n",
      "only showing top 20 rows\n",
      "\n"
     ]
    }
   ],
   "source": [
    "df.show()"
   ]
  },
  {
   "cell_type": "code",
   "execution_count": 64,
   "id": "9dfd45b4",
   "metadata": {
    "scrolled": false
   },
   "outputs": [
    {
     "name": "stderr",
     "output_type": "stream",
     "text": [
      "                                                                                \r"
     ]
    },
    {
     "data": {
      "text/plain": [
       "93956"
      ]
     },
     "execution_count": 64,
     "metadata": {},
     "output_type": "execute_result"
    }
   ],
   "source": [
    "df.count()"
   ]
  },
  {
   "cell_type": "code",
   "execution_count": 65,
   "id": "3f77082b",
   "metadata": {},
   "outputs": [],
   "source": [
    "df = df.limit(30000)"
   ]
  },
  {
   "cell_type": "code",
   "execution_count": 66,
   "id": "e0e85e68",
   "metadata": {},
   "outputs": [
    {
     "name": "stderr",
     "output_type": "stream",
     "text": [
      "                                                                                \r"
     ]
    },
    {
     "data": {
      "text/plain": [
       "25792"
      ]
     },
     "execution_count": 66,
     "metadata": {},
     "output_type": "execute_result"
    }
   ],
   "source": [
    "df = df.filter(\"text is not NULL\").where(length(col(\"text\"))>500)\n",
    "df.count()"
   ]
  },
  {
   "cell_type": "code",
   "execution_count": 67,
   "id": "81990d02",
   "metadata": {},
   "outputs": [],
   "source": [
    "tokenizer = Tokenizer(inputCol=\"text\", outputCol=\"words\")"
   ]
  },
  {
   "cell_type": "code",
   "execution_count": 68,
   "id": "2bac7683",
   "metadata": {},
   "outputs": [],
   "source": [
    "words = tokenizer.transform(df)"
   ]
  },
  {
   "cell_type": "code",
   "execution_count": 69,
   "id": "5906abae",
   "metadata": {
    "scrolled": true
   },
   "outputs": [
    {
     "name": "stderr",
     "output_type": "stream",
     "text": [
      "\r",
      "[Stage 169:>                                                        (0 + 1) / 1]\r"
     ]
    },
    {
     "name": "stdout",
     "output_type": "stream",
     "text": [
      "+--------------------+--------------------+--------------------+--------------------+\n",
      "|                text|           timestamp|                 url|               words|\n",
      "+--------------------+--------------------+--------------------+--------------------+\n",
      "|Vijf gouden tips ...|2019-02-22T15:37:25Z|https://ondernemi...|[vijf, gouden, ti...|\n",
      "|CuracaoNieuws | G...|2020-01-29T03:25:31Z|https://www.knips...|[curacaonieuws, |...|\n",
      "|Nationaal Zwemcen...|2017-07-26T03:02:32Z|http://likealyzer...|[nationaal, zwemc...|\n",
      "|Interim-managemen...|2020-04-01T21:11:42Z|http://www.interi...|[interim-manageme...|\n",
      "|Vastgoedbeheerder...|2019-10-14T10:47:53Z|https://vastgoedb...|[vastgoedbeheerde...|\n",
      "|dag 11 | WorldSup...|2020-08-15T01:30:29Z|https://www.world...|[dag, 11, |, worl...|\n",
      "|Henk Wieland (Ond...|2019-02-21T06:37:48Z|https://lentseluc...|[henk, wieland, (...|\n",
      "|Gamed.nl - Korte ...|2020-08-11T00:20:12Z|https://www.gamed...|[gamed.nl, -, kor...|\n",
      "|Informatiebijeenk...|2018-08-18T09:01:23Z|https://oncologie...|[informatiebijeen...|\n",
      "|Onderooglidcorrec...|2019-07-22T18:10:54Z|https://www.dokte...|[onderooglidcorre...|\n",
      "|Kwark exotic – Pu...|2020-08-07T09:04:46Z|https://www.puur-...|[kwark, exotic, –...|\n",
      "|Chloe Signature E...|2019-01-17T01:31:57Z|https://www.onlin...|[chloe, signature...|\n",
      "|De hindoeïstische...|2020-02-20T11:14:30Z|https://www.agczk...|[de, hindoeïstisc...|\n",
      "|Sonorex RK1028C -...|2020-04-07T07:51:15Z|https://djaky.com...|[sonorex, rk1028c...|\n",
      "|Bol.com en Sony s...|2017-10-18T22:25:55Z|http://www.dutchc...|[bol.com, en, son...|\n",
      "|Boeken, Films & M...|2018-05-23T01:29:34Z|http://www.kortin...|[boeken,, films, ...|\n",
      "|Amigurumidag CAL:...|2019-04-24T09:46:23Z|https://www.echts...|[amigurumidag, ca...|\n",
      "|Vacatures Chauffe...|2019-06-16T06:36:44Z|https://vacatureb...|[vacatures, chauf...|\n",
      "|INTERNSHIP: Fotog...|2017-06-26T10:36:14Z|https://www.annic...|[internship:, fot...|\n",
      "|Vrouwen Leren Jas...|2020-01-21T00:45:18Z|https://kwaliteit...|[vrouwen, leren, ...|\n",
      "+--------------------+--------------------+--------------------+--------------------+\n",
      "only showing top 20 rows\n",
      "\n"
     ]
    },
    {
     "name": "stderr",
     "output_type": "stream",
     "text": [
      "\r",
      "                                                                                \r"
     ]
    }
   ],
   "source": [
    "words.show()"
   ]
  },
  {
   "cell_type": "code",
   "execution_count": 70,
   "id": "b798f46b",
   "metadata": {},
   "outputs": [],
   "source": [
    "# mindf = minimum number of documents for a term to count\n",
    "cv = CountVectorizer(inputCol=\"words\", outputCol=\"features\", vocabSize=10000, minDF=1)"
   ]
  },
  {
   "cell_type": "code",
   "execution_count": 71,
   "id": "cff177d2",
   "metadata": {},
   "outputs": [
    {
     "name": "stderr",
     "output_type": "stream",
     "text": [
      "                                                                                \r"
     ]
    }
   ],
   "source": [
    "model = cv.fit(words)"
   ]
  },
  {
   "cell_type": "code",
   "execution_count": 72,
   "id": "ef19abf2",
   "metadata": {},
   "outputs": [],
   "source": [
    "result = model.transform(words)"
   ]
  },
  {
   "cell_type": "code",
   "execution_count": 73,
   "id": "9c117f46",
   "metadata": {
    "scrolled": true
   },
   "outputs": [
    {
     "name": "stdout",
     "output_type": "stream",
     "text": [
      "+--------------------+--------------------+--------------------+--------------------+--------------------+\n",
      "|                text|           timestamp|                 url|               words|            features|\n",
      "+--------------------+--------------------+--------------------+--------------------+--------------------+\n",
      "|Vijf gouden tips ...|2019-02-22T15:37:25Z|https://ondernemi...|[vijf, gouden, ti...|(10000,[0,1,2,3,4...|\n",
      "|CuracaoNieuws | G...|2020-01-29T03:25:31Z|https://www.knips...|[curacaonieuws, |...|(10000,[0,1,2,3,4...|\n",
      "|Nationaal Zwemcen...|2017-07-26T03:02:32Z|http://likealyzer...|[nationaal, zwemc...|(10000,[0,1,2,3,4...|\n",
      "|Interim-managemen...|2020-04-01T21:11:42Z|http://www.interi...|[interim-manageme...|(10000,[0,1,2,3,4...|\n",
      "|Vastgoedbeheerder...|2019-10-14T10:47:53Z|https://vastgoedb...|[vastgoedbeheerde...|(10000,[0,1,2,3,4...|\n",
      "|dag 11 | WorldSup...|2020-08-15T01:30:29Z|https://www.world...|[dag, 11, |, worl...|(10000,[0,2,3,4,6...|\n",
      "|Henk Wieland (Ond...|2019-02-21T06:37:48Z|https://lentseluc...|[henk, wieland, (...|(10000,[0,1,2,3,4...|\n",
      "|Gamed.nl - Korte ...|2020-08-11T00:20:12Z|https://www.gamed...|[gamed.nl, -, kor...|(10000,[0,1,2,3,4...|\n",
      "|Informatiebijeenk...|2018-08-18T09:01:23Z|https://oncologie...|[informatiebijeen...|(10000,[0,1,2,3,4...|\n",
      "|Onderooglidcorrec...|2019-07-22T18:10:54Z|https://www.dokte...|[onderooglidcorre...|(10000,[0,1,2,3,4...|\n",
      "|Kwark exotic – Pu...|2020-08-07T09:04:46Z|https://www.puur-...|[kwark, exotic, –...|(10000,[0,1,2,3,5...|\n",
      "|Chloe Signature E...|2019-01-17T01:31:57Z|https://www.onlin...|[chloe, signature...|(10000,[0,2,3,4,6...|\n",
      "|De hindoeïstische...|2020-02-20T11:14:30Z|https://www.agczk...|[de, hindoeïstisc...|(10000,[0,1,2,3,4...|\n",
      "|Sonorex RK1028C -...|2020-04-07T07:51:15Z|https://djaky.com...|[sonorex, rk1028c...|(10000,[0,1,2,3,4...|\n",
      "|Bol.com en Sony s...|2017-10-18T22:25:55Z|http://www.dutchc...|[bol.com, en, son...|(10000,[0,1,2,3,4...|\n",
      "|Boeken, Films & M...|2018-05-23T01:29:34Z|http://www.kortin...|[boeken,, films, ...|(10000,[0,1,2,3,4...|\n",
      "|Amigurumidag CAL:...|2019-04-24T09:46:23Z|https://www.echts...|[amigurumidag, ca...|(10000,[0,1,2,3,4...|\n",
      "|Vacatures Chauffe...|2019-06-16T06:36:44Z|https://vacatureb...|[vacatures, chauf...|(10000,[0,1,2,3,4...|\n",
      "|INTERNSHIP: Fotog...|2017-06-26T10:36:14Z|https://www.annic...|[internship:, fot...|(10000,[0,1,2,3,4...|\n",
      "|Vrouwen Leren Jas...|2020-01-21T00:45:18Z|https://kwaliteit...|[vrouwen, leren, ...|(10000,[0,1,2,3,4...|\n",
      "+--------------------+--------------------+--------------------+--------------------+--------------------+\n",
      "only showing top 20 rows\n",
      "\n"
     ]
    },
    {
     "name": "stderr",
     "output_type": "stream",
     "text": [
      "\r",
      "[Stage 177:>                                                        (0 + 1) / 1]\r",
      "\r",
      "                                                                                \r"
     ]
    }
   ],
   "source": [
    "result.show()"
   ]
  },
  {
   "cell_type": "code",
   "execution_count": 74,
   "id": "e3402b71",
   "metadata": {},
   "outputs": [],
   "source": [
    "# mh = MinHashLSH(inputCol=\"features\", outputCol=\"hashes\", numHashTables=1)\n",
    "# model = mh.fit(result)"
   ]
  },
  {
   "cell_type": "code",
   "execution_count": 75,
   "id": "671b7d80",
   "metadata": {},
   "outputs": [],
   "source": [
    "brp = BucketedRandomProjectionLSH(inputCol=\"features\", outputCol=\"hashes\", bucketLength=2.0,\n",
    "                                  numHashTables=2)\n",
    "model = brp.fit(result)"
   ]
  },
  {
   "cell_type": "code",
   "execution_count": 76,
   "id": "16c46e4b",
   "metadata": {},
   "outputs": [],
   "source": [
    "hashes = model.transform(result).repartition(100)"
   ]
  },
  {
   "cell_type": "code",
   "execution_count": 77,
   "id": "ac8eed8f",
   "metadata": {},
   "outputs": [
    {
     "name": "stderr",
     "output_type": "stream",
     "text": [
      "[Stage 180:>                                                        (0 + 1) / 1]\r"
     ]
    },
    {
     "name": "stdout",
     "output_type": "stream",
     "text": [
      "+--------------------+--------------------+--------------------+--------------------+--------------------+----------------+\n",
      "|                text|           timestamp|                 url|               words|            features|          hashes|\n",
      "+--------------------+--------------------+--------------------+--------------------+--------------------+----------------+\n",
      "|Nieuwe versie van...|2013-05-22T23:32:42Z|http://www.stambo...|[nieuwe, versie, ...|(10000,[0,1,2,3,4...| [[-1.0], [0.0]]|\n",
      "|'); capa.innerHTM...|2020-04-06T11:46:00Z|https://www.camio...|[');, capa.innerh...|(10000,[187,245,3...| [[0.0], [-1.0]]|\n",
      "|TIBCO heeft plann...|2020-07-02T14:42:25Z|https://biplatfor...|[tibco, heeft, pl...|(10000,[1,3,5,8,1...|  [[0.0], [0.0]]|\n",
      "|Willibrord van Be...|2020-05-28T18:31:36Z|https://www.limbu...|[willibrord, van,...|(10000,[0,1,2,3,4...| [[0.0], [-1.0]]|\n",
      "|Huis > Product Li...|2019-09-19T22:24:11Z|http://nl.sinowzh...|[huis, >, product...|(10000,[0,1,2,3,5...|[[-1.0], [-1.0]]|\n",
      "|CUYLAERTS EN ZOON...|2020-04-07T00:58:34Z|https://www.staat...|[cuylaerts, en, z...|(10000,[0,2,20,80...| [[0.0], [-1.0]]|\n",
      "|Camping Domaine L...|2019-07-22T07:53:23Z|https://www.zoove...|[camping, domaine...|(10000,[0,1,2,3,4...|  [[0.0], [0.0]]|\n",
      "|NAVO-voorman De H...|2019-02-22T04:06:24Z|https://www.nu.nl...|[navo-voorman, de...|(10000,[0,1,2,3,4...|[[-1.0], [-1.0]]|\n",
      "|Real Madrid 6 - 2...|2014-11-24T16:39:26Z|http://www.goal.c...|[real, madrid, 6,...|(10000,[0,1,2,3,4...|[[-1.0], [-1.0]]|\n",
      "|wetten.nl - Regel...|2016-10-26T07:40:51Z|http://wetten.ove...|[wetten.nl, -, re...|(10000,[0,1,2,3,4...|[[-1.0], [-1.0]]|\n",
      "|1 Troy ounce zilv...|2017-08-17T03:49:56Z|https://www.thesi...|[1, troy, ounce, ...|(10000,[0,1,2,3,4...|[[-1.0], [-1.0]]|\n",
      "|Kerkberichten wee...|2020-01-18T12:23:31Z|https://www.halst...|[kerkberichten, w...|(10000,[0,1,2,3,4...| [[0.0], [-1.0]]|\n",
      "|Veel lol op klima...|2020-07-12T01:09:19Z|https://resource....|[veel, lol, op, k...|(10000,[0,1,2,3,4...| [[0.0], [-1.0]]|\n",
      "|» Kleuren in de k...|2020-08-05T04:07:04Z|https://www.kerk-...|[», kleuren, in, ...|(10000,[0,1,2,3,4...| [[0.0], [-1.0]]|\n",
      "|Verslag commissie...|2020-05-26T04:38:37Z|https://www.vlaam...|[verslag, commiss...|(10000,[0,1,2,3,4...| [[0.0], [-2.0]]|\n",
      "|Borstkanker tijde...|2020-04-10T13:37:34Z|https://mens-en-g...|[borstkanker, tij...|(10000,[0,1,2,3,4...| [[0.0], [-1.0]]|\n",
      "|Eerste domeinserv...|2016-10-27T23:18:34Z|http://www.nieuws...|[eerste, domeinse...|(10000,[0,1,2,3,4...| [[0.0], [-1.0]]|\n",
      "|Champagne op Scle...|2019-07-24T02:17:10Z|https://www.voetb...|[champagne, op, s...|(10000,[0,1,2,3,4...| [[0.0], [-1.0]]|\n",
      "|Unity, Compiz, GN...|2018-12-19T02:02:37Z|https://forum.ubu...|[unity,, compiz,,...|(10000,[0,1,2,3,4...|[[-1.0], [-1.0]]|\n",
      "|Uitnodigingsservi...|2020-08-04T14:40:45Z|https://www.insta...|[uitnodigingsserv...|(10000,[0,1,2,3,4...| [[0.0], [-1.0]]|\n",
      "+--------------------+--------------------+--------------------+--------------------+--------------------+----------------+\n",
      "only showing top 20 rows\n",
      "\n"
     ]
    },
    {
     "name": "stderr",
     "output_type": "stream",
     "text": [
      "\r",
      "                                                                                \r"
     ]
    }
   ],
   "source": [
    "hashes.show()"
   ]
  },
  {
   "cell_type": "code",
   "execution_count": 78,
   "id": "2b722144",
   "metadata": {},
   "outputs": [],
   "source": [
    "from pyspark.ml.linalg import Vectors"
   ]
  },
  {
   "cell_type": "code",
   "execution_count": 79,
   "id": "3eb10674",
   "metadata": {
    "scrolled": false
   },
   "outputs": [
    {
     "name": "stdout",
     "output_type": "stream",
     "text": [
      "root\n",
      " |-- this: vector (nullable = true)\n",
      "\n"
     ]
    },
    {
     "name": "stderr",
     "output_type": "stream",
     "text": [
      "[Stage 183:>                                                        (0 + 1) / 1]\r"
     ]
    },
    {
     "name": "stdout",
     "output_type": "stream",
     "text": [
      "+-----+\n",
      "| this|\n",
      "+-----+\n",
      "|[1.0]|\n",
      "+-----+\n",
      "only showing top 1 row\n",
      "\n"
     ]
    },
    {
     "name": "stderr",
     "output_type": "stream",
     "text": [
      "\r",
      "                                                                                \r"
     ]
    }
   ],
   "source": [
    "#filter(hashes.hashes != array(array(lit(0))))\n",
    "test = hashes.withColumn(\"this\", hashes[\"hashes\"].getItem(0)).select(\"this\")\n",
    "test.printSchema()\n",
    "test.show(1)"
   ]
  },
  {
   "cell_type": "code",
   "execution_count": 80,
   "id": "f6789f76",
   "metadata": {},
   "outputs": [],
   "source": [
    "# duplicates = model.approxSimilarityJoin(hashes, hashes, 0.01, distCol=\"JaccardDistance\")\\\n",
    "#     .select(col(\"datasetA.url\").alias(\"urlA\"),\n",
    "#             col(\"datasetB.url\").alias(\"urlB\"),\n",
    "#             col(\"JaccardDistance\"))\\\n",
    "#     .filter(\"urlA < urlB\")"
   ]
  },
  {
   "cell_type": "code",
   "execution_count": 81,
   "id": "5e471df0",
   "metadata": {},
   "outputs": [],
   "source": [
    "duplicates = model.approxSimilarityJoin(hashes, hashes, 0.1, distCol=\"EuclideanDistance\")\\\n",
    "    .select(col(\"datasetA.url\").alias(\"urlA\"),\n",
    "            col(\"datasetB.url\").alias(\"urlB\"),\n",
    "            col(\"EuclideanDistance\"))\\\n",
    "    .filter(\"urlA < urlB\")"
   ]
  },
  {
   "cell_type": "code",
   "execution_count": 82,
   "id": "9d5343ae",
   "metadata": {},
   "outputs": [],
   "source": [
    "duplicates = duplicates.cache()"
   ]
  },
  {
   "cell_type": "code",
   "execution_count": 88,
   "id": "c9a12a0f",
   "metadata": {},
   "outputs": [
    {
     "data": {
      "text/plain": [
       "46"
      ]
     },
     "execution_count": 88,
     "metadata": {},
     "output_type": "execute_result"
    }
   ],
   "source": [
    "duplicates.count()"
   ]
  },
  {
   "cell_type": "code",
   "execution_count": 83,
   "id": "639a0b85",
   "metadata": {},
   "outputs": [
    {
     "name": "stderr",
     "output_type": "stream",
     "text": [
      "                                                                                \r"
     ]
    },
    {
     "name": "stdout",
     "output_type": "stream",
     "text": [
      "+---------------------------------------------------------------------------------------------------------------------------------------------------------------------------------------------------------------------------------------------------------------------------------------------------+---------------------------------------------------------------------------------------------------------------------------------------------------------------------------------------------------------------------------------------------------------------------------------------------------+-----------------+\n",
      "|urlA                                                                                                                                                                                                                                                                                               |urlB                                                                                                                                                                                                                                                                                               |EuclideanDistance|\n",
      "+---------------------------------------------------------------------------------------------------------------------------------------------------------------------------------------------------------------------------------------------------------------------------------------------------+---------------------------------------------------------------------------------------------------------------------------------------------------------------------------------------------------------------------------------------------------------------------------------------------------+-----------------+\n",
      "|http://nl.idealightgroup.com/dp-plafondlamp-kroonluchter-decoratief.html                                                                                                                                                                                                                           |http://nl.polyether-amine.com/dp-polymeer-polyolen.html                                                                                                                                                                                                                                            |0.0              |\n",
      "|https://www.filetypes.nl/extension/ddr                                                                                                                                                                                                                                                             |https://www.filetypes.nl/extension/grw                                                                                                                                                                                                                                                             |0.0              |\n",
      "|http://www.fangraphs.com/leaders.aspx?pos=ss&stats=bat&lg=all&qual=y&type=7&season=2013&month=0&season1=2013&ind=0&team=0&rost=0&age=0&filter=&players=0&sort=15,a                                                                                                                                 |https://www.uu.nl/masters/en/masterprogrammas/duur/2-jaar-3/interessegebied/onderwijs-49/duur/1-jaar-1/hbo/nee-183/interessegebied/informatiewetenschappen-156/interessegebied/milieuwetenschappen-155/voertaal/engels-46/interessegebied/gezondheid-van-mens-en-dier-54/interessegebied/rechten-53|0.0              |\n",
      "|http://www.debetconsulting.nl/werkgebied/incasso/schardam                                                                                                                                                                                                                                          |http://www.debetconsulting.nl/werkgebied/incasso/twisk                                                                                                                                                                                                                                             |0.0              |\n",
      "|http://www.de-bloemist.nl/bloemist/Gaarkeuken.htm                                                                                                                                                                                                                                                  |http://www.de-bloemist.nl/bloemist/Voorsterveld.htm                                                                                                                                                                                                                                                |0.0              |\n",
      "|https://www.facebook-zoeken.nl/harald/                                                                                                                                                                                                                                                             |https://www.facebook-zoeken.nl/mathij/                                                                                                                                                                                                                                                             |0.0              |\n",
      "|https://ongediertebestrijding.online/fr/baaium                                                                                                                                                                                                                                                     |https://zonnepaneel.online/fr/idaerd                                                                                                                                                                                                                                                               |0.0              |\n",
      "|http://www.beursgoochelaars.nl/beursgoochelaar-kekerdom.html                                                                                                                                                                                                                                       |http://www.beursgoochelaars.nl/beursgoochelaar-kraanmeer.html                                                                                                                                                                                                                                      |0.0              |\n",
      "|https://www.facebook-zoeken.nl/mathij/                                                                                                                                                                                                                                                             |https://www.facebook-zoeken.nl/runar/                                                                                                                                                                                                                                                              |0.0              |\n",
      "|http://www.bikester.be/fietskledij/fietsschoenen/manitou.html                                                                                                                                                                                                                                      |https://www.bikester.be/fietsaccessoires/fietsgereedschap/odyssey.html                                                                                                                                                                                                                             |0.0              |\n",
      "|https://be.ouibus.com/routes/douvres-monforte                                                                                                                                                                                                                                                      |https://be.ouibus.com/routes/venetie-carcassonne                                                                                                                                                                                                                                                   |0.0              |\n",
      "|https://www.uu.nl/masters/en/masterprogrammas/duur/2-jaar-3/interessegebied/onderwijs-49/duur/1-jaar-1/hbo/nee-183/interessegebied/informatiewetenschappen-156/interessegebied/milieuwetenschappen-155/voertaal/engels-46/interessegebied/gezondheid-van-mens-en-dier-54/interessegebied/rechten-53|https://www.uu.nl/masters/masterprogrammas/vorm/voltijd-43/duur/2-jaar-3/duur/15-jaar-95/interessegebied/rechten-53/start/februari-40/vorm/deeltijd-44/interessegebied/media-en-cultuur-105                                                                                                        |0.0              |\n",
      "|https://www.airberlin.com/nl/offers/search/index/forward/departurecode/HAM/destinationcode/VCE/outbounddate/2013-08-23/returndate/2013-08-30/currency/EUR/                                                                                                                                         |https://www.airberlin.com/nl/offers/search/index/search/departure/DE/destination/VCE/outbounddate/2013-03/currency/EUR/sortby/price/filterdeparturecode/FKB/filterdestinationcode/BRI/                                                                                                             |0.0              |\n",
      "|http://jehandleiding.nl/gebruiksaanwijzing/PANASONIC/DMCLS65                                                                                                                                                                                                                                       |http://jehandleiding.nl/gebruiksaanwijzing/SMEG/A1P-5                                                                                                                                                                                                                                              |0.0              |\n",
      "|http://www.jetcost.nl/autoverhuur-Bandar+Abbas,Iran.html                                                                                                                                                                                                                                           |http://www.jetcost.nl/autoverhuur-Dalyan,Turkije.html                                                                                                                                                                                                                                              |0.0              |\n",
      "|https://vloerverwarmingadviseur.nl/rullen/                                                                                                                                                                                                                                                         |https://vloerverwarmingadviseur.nl/saaxumhuizen/                                                                                                                                                                                                                                                   |0.0              |\n",
      "|http://www.goochelaars-nederland.nl/goochelshow/goochelshow-oost-graftdijk.html                                                                                                                                                                                                                    |http://www.goochelaars-nederland.nl/goochelworkshop/goochelworkshop-dirkshorn.html                                                                                                                                                                                                                 |0.0              |\n",
      "|https://www.uu.nl/masters/en/masterprogrammas/duur/2-jaar-3/interessegebied/lerarenopleidingen-108/interessegebied/scheikunde-153/duur/1-jaar-1/interessegebied/aardwetenschappen-143/interessegebied/biologie-151/start/februari-40/faculteit/betawetenschappen-20/hbo/ja-onder-voorwaarden-178   |https://www.uu.nl/masters/masterprogrammas/start/september-41/start/5-x-jaar-401/interessegebied/literatuur-126/voertaal/engels-46/voertaal/nederlands-45/duur/2-jaar-3/vorm/deeltijd-44/interessegebied/economie-bestuur-en-organisatie-51                                                        |0.0              |\n",
      "|http://www.beursgoochelaars.nl/beursgoochelaar-borculo.html                                                                                                                                                                                                                                        |http://www.beursgoochelaars.nl/beursgoochelaar-kraanmeer.html                                                                                                                                                                                                                                      |0.0              |\n",
      "|https://www.uu.nl/masters/masterprogrammas/interessegebied/onderwijs-49/vorm/voltijd-43/voertaal/nederlands-45/duur/1-jaar-1/interessegebied/taalkunde-199/interessegebied/duurzaamheid-en-maatschappij-613/start/februari-40/interessegebied/antropologie-147                                     |https://www.uu.nl/masters/masterprogrammas/voertaal/nederlands-45/interessegebied/filosofie-en-religiewetenschappen-295/voertaal/engels-46/vorm/voltijd-43/interessegebied/literatuur-150/interessegebied/gezondheid-van-mens-en-dier-54/field_post_pro_academic/0/duur/3-jaar-4                   |0.0              |\n",
      "+---------------------------------------------------------------------------------------------------------------------------------------------------------------------------------------------------------------------------------------------------------------------------------------------------+---------------------------------------------------------------------------------------------------------------------------------------------------------------------------------------------------------------------------------------------------------------------------------------------------+-----------------+\n",
      "only showing top 20 rows\n",
      "\n"
     ]
    }
   ],
   "source": [
    "duplicates.show(truncate=False)"
   ]
  },
  {
   "cell_type": "code",
   "execution_count": 87,
   "id": "496d46a9",
   "metadata": {},
   "outputs": [
    {
     "name": "stdout",
     "output_type": "stream",
     "text": [
      "+-----------------------------------------------------------------------------------------------------------------------------------------------------------------------------------------------------------------------------------------------------------------------------------------------------------------------------------------------------------------------------------------------------------------------------------------------------------------------------------------------+--------------------------------------------------------------------------------------------------------------------------------------------------------------------------------------------------------------------------------------------------------------------------------------------------------------------------------------------------------------------------------------------------------------------------------+-----------------+\n",
      "|urlA                                                                                                                                                                                                                                                                                                                                                                                                                                                                                           |urlB                                                                                                                                                                                                                                                                                                                                                                                                                            |EuclideanDistance|\n",
      "+-----------------------------------------------------------------------------------------------------------------------------------------------------------------------------------------------------------------------------------------------------------------------------------------------------------------------------------------------------------------------------------------------------------------------------------------------------------------------------------------------+--------------------------------------------------------------------------------------------------------------------------------------------------------------------------------------------------------------------------------------------------------------------------------------------------------------------------------------------------------------------------------------------------------------------------------+-----------------+\n",
      "|http://nl.idealightgroup.com/dp-plafondlamp-kroonluchter-decoratief.html                                                                                                                                                                                                                                                                                                                                                                                                                       |http://nl.polyether-amine.com/dp-polymeer-polyolen.html                                                                                                                                                                                                                                                                                                                                                                         |0.0              |\n",
      "|https://www.filetypes.nl/extension/ddr                                                                                                                                                                                                                                                                                                                                                                                                                                                         |https://www.filetypes.nl/extension/grw                                                                                                                                                                                                                                                                                                                                                                                          |0.0              |\n",
      "|http://www.fangraphs.com/leaders.aspx?pos=ss&stats=bat&lg=all&qual=y&type=7&season=2013&month=0&season1=2013&ind=0&team=0&rost=0&age=0&filter=&players=0&sort=15,a                                                                                                                                                                                                                                                                                                                             |https://www.uu.nl/masters/en/masterprogrammas/duur/2-jaar-3/interessegebied/onderwijs-49/duur/1-jaar-1/hbo/nee-183/interessegebied/informatiewetenschappen-156/interessegebied/milieuwetenschappen-155/voertaal/engels-46/interessegebied/gezondheid-van-mens-en-dier-54/interessegebied/rechten-53                                                                                                                             |0.0              |\n",
      "|http://www.debetconsulting.nl/werkgebied/incasso/schardam                                                                                                                                                                                                                                                                                                                                                                                                                                      |http://www.debetconsulting.nl/werkgebied/incasso/twisk                                                                                                                                                                                                                                                                                                                                                                          |0.0              |\n",
      "|http://www.de-bloemist.nl/bloemist/Gaarkeuken.htm                                                                                                                                                                                                                                                                                                                                                                                                                                              |http://www.de-bloemist.nl/bloemist/Voorsterveld.htm                                                                                                                                                                                                                                                                                                                                                                             |0.0              |\n",
      "|https://www.facebook-zoeken.nl/harald/                                                                                                                                                                                                                                                                                                                                                                                                                                                         |https://www.facebook-zoeken.nl/mathij/                                                                                                                                                                                                                                                                                                                                                                                          |0.0              |\n",
      "|https://ongediertebestrijding.online/fr/baaium                                                                                                                                                                                                                                                                                                                                                                                                                                                 |https://zonnepaneel.online/fr/idaerd                                                                                                                                                                                                                                                                                                                                                                                            |0.0              |\n",
      "|http://www.beursgoochelaars.nl/beursgoochelaar-kekerdom.html                                                                                                                                                                                                                                                                                                                                                                                                                                   |http://www.beursgoochelaars.nl/beursgoochelaar-kraanmeer.html                                                                                                                                                                                                                                                                                                                                                                   |0.0              |\n",
      "|https://www.facebook-zoeken.nl/mathij/                                                                                                                                                                                                                                                                                                                                                                                                                                                         |https://www.facebook-zoeken.nl/runar/                                                                                                                                                                                                                                                                                                                                                                                           |0.0              |\n",
      "|http://www.bikester.be/fietskledij/fietsschoenen/manitou.html                                                                                                                                                                                                                                                                                                                                                                                                                                  |https://www.bikester.be/fietsaccessoires/fietsgereedschap/odyssey.html                                                                                                                                                                                                                                                                                                                                                          |0.0              |\n",
      "|https://be.ouibus.com/routes/douvres-monforte                                                                                                                                                                                                                                                                                                                                                                                                                                                  |https://be.ouibus.com/routes/venetie-carcassonne                                                                                                                                                                                                                                                                                                                                                                                |0.0              |\n",
      "|https://www.uu.nl/masters/en/masterprogrammas/duur/2-jaar-3/interessegebied/onderwijs-49/duur/1-jaar-1/hbo/nee-183/interessegebied/informatiewetenschappen-156/interessegebied/milieuwetenschappen-155/voertaal/engels-46/interessegebied/gezondheid-van-mens-en-dier-54/interessegebied/rechten-53                                                                                                                                                                                            |https://www.uu.nl/masters/masterprogrammas/vorm/voltijd-43/duur/2-jaar-3/duur/15-jaar-95/interessegebied/rechten-53/start/februari-40/vorm/deeltijd-44/interessegebied/media-en-cultuur-105                                                                                                                                                                                                                                     |0.0              |\n",
      "|https://www.airberlin.com/nl/offers/search/index/forward/departurecode/HAM/destinationcode/VCE/outbounddate/2013-08-23/returndate/2013-08-30/currency/EUR/                                                                                                                                                                                                                                                                                                                                     |https://www.airberlin.com/nl/offers/search/index/search/departure/DE/destination/VCE/outbounddate/2013-03/currency/EUR/sortby/price/filterdeparturecode/FKB/filterdestinationcode/BRI/                                                                                                                                                                                                                                          |0.0              |\n",
      "|http://jehandleiding.nl/gebruiksaanwijzing/PANASONIC/DMCLS65                                                                                                                                                                                                                                                                                                                                                                                                                                   |http://jehandleiding.nl/gebruiksaanwijzing/SMEG/A1P-5                                                                                                                                                                                                                                                                                                                                                                           |0.0              |\n",
      "|http://www.jetcost.nl/autoverhuur-Bandar+Abbas,Iran.html                                                                                                                                                                                                                                                                                                                                                                                                                                       |http://www.jetcost.nl/autoverhuur-Dalyan,Turkije.html                                                                                                                                                                                                                                                                                                                                                                           |0.0              |\n",
      "|https://vloerverwarmingadviseur.nl/rullen/                                                                                                                                                                                                                                                                                                                                                                                                                                                     |https://vloerverwarmingadviseur.nl/saaxumhuizen/                                                                                                                                                                                                                                                                                                                                                                                |0.0              |\n",
      "|http://www.goochelaars-nederland.nl/goochelshow/goochelshow-oost-graftdijk.html                                                                                                                                                                                                                                                                                                                                                                                                                |http://www.goochelaars-nederland.nl/goochelworkshop/goochelworkshop-dirkshorn.html                                                                                                                                                                                                                                                                                                                                              |0.0              |\n",
      "|https://www.uu.nl/masters/en/masterprogrammas/duur/2-jaar-3/interessegebied/lerarenopleidingen-108/interessegebied/scheikunde-153/duur/1-jaar-1/interessegebied/aardwetenschappen-143/interessegebied/biologie-151/start/februari-40/faculteit/betawetenschappen-20/hbo/ja-onder-voorwaarden-178                                                                                                                                                                                               |https://www.uu.nl/masters/masterprogrammas/start/september-41/start/5-x-jaar-401/interessegebied/literatuur-126/voertaal/engels-46/voertaal/nederlands-45/duur/2-jaar-3/vorm/deeltijd-44/interessegebied/economie-bestuur-en-organisatie-51                                                                                                                                                                                     |0.0              |\n",
      "|http://www.beursgoochelaars.nl/beursgoochelaar-borculo.html                                                                                                                                                                                                                                                                                                                                                                                                                                    |http://www.beursgoochelaars.nl/beursgoochelaar-kraanmeer.html                                                                                                                                                                                                                                                                                                                                                                   |0.0              |\n",
      "|https://www.uu.nl/masters/masterprogrammas/interessegebied/onderwijs-49/vorm/voltijd-43/voertaal/nederlands-45/duur/1-jaar-1/interessegebied/taalkunde-199/interessegebied/duurzaamheid-en-maatschappij-613/start/februari-40/interessegebied/antropologie-147                                                                                                                                                                                                                                 |https://www.uu.nl/masters/masterprogrammas/voertaal/nederlands-45/interessegebied/filosofie-en-religiewetenschappen-295/voertaal/engels-46/vorm/voltijd-43/interessegebied/literatuur-150/interessegebied/gezondheid-van-mens-en-dier-54/field_post_pro_academic/0/duur/3-jaar-4                                                                                                                                                |0.0              |\n",
      "|http://www.fangraphs.com/leaders.aspx?pos=ss&stats=bat&lg=all&qual=y&type=7&season=2013&month=0&season1=2013&ind=0&team=0&rost=0&age=0&filter=&players=0&sort=15,a                                                                                                                                                                                                                                                                                                                             |https://www.uu.nl/masters/en/masterprogrammas/duur/2-jaar-3/interessegebied/lerarenopleidingen-108/interessegebied/scheikunde-153/duur/1-jaar-1/interessegebied/aardwetenschappen-143/interessegebied/biologie-151/start/februari-40/faculteit/betawetenschappen-20/hbo/ja-onder-voorwaarden-178                                                                                                                                |0.0              |\n",
      "|http://www.goochelaars-nederland.nl/amusement/amusement-exel.html                                                                                                                                                                                                                                                                                                                                                                                                                              |http://www.goochelaars-nederland.nl/amusement/amusement-zuidveld.html                                                                                                                                                                                                                                                                                                                                                           |0.0              |\n",
      "|https://www.scalda.nl/opleidingen/branche/entree-151/branche/metaal-en-werktuigbouwkunde-167/interesse/laboratorium/locatie/tholen                                                                                                                                                                                                                                                                                                                                                             |https://www.uu.nl/masters/masterprogrammas/interessegebied/onderwijs-49/vorm/voltijd-43/voertaal/nederlands-45/duur/1-jaar-1/interessegebied/taalkunde-199/interessegebied/duurzaamheid-en-maatschappij-613/start/februari-40/interessegebied/antropologie-147                                                                                                                                                                  |0.0              |\n",
      "|http://rijmwoordenboek.vandale.nl/rijm/VERPAKKEN                                                                                                                                                                                                                                                                                                                                                                                                                                               |http://rijmwoordenboek.vandale.nl/rijm/harnasten                                                                                                                                                                                                                                                                                                                                                                                |0.0              |\n",
      "|https://www.scalda.nl/opleidingen/branche/entree-151/branche/metaal-en-werktuigbouwkunde-167/interesse/laboratorium/locatie/tholen                                                                                                                                                                                                                                                                                                                                                             |https://www.uu.nl/masters/masterprogrammas/voertaal/nederlands-45/interessegebied/filosofie-en-religiewetenschappen-295/voertaal/engels-46/vorm/voltijd-43/interessegebied/literatuur-150/interessegebied/gezondheid-van-mens-en-dier-54/field_post_pro_academic/0/duur/3-jaar-4                                                                                                                                                |0.0              |\n",
      "|http://www.wwb-uitkering.nl/huurtoeslag-aanvragen/noordeinde                                                                                                                                                                                                                                                                                                                                                                                                                                   |https://www.wwb-uitkering.nl/huurtoeslag-aanvragen/glane-beekhoek                                                                                                                                                                                                                                                                                                                                                               |0.0              |\n",
      "|http://www.fangraphs.com/leaders.aspx?pos=ss&stats=bat&lg=all&qual=y&type=7&season=2013&month=0&season1=2013&ind=0&team=0&rost=0&age=0&filter=&players=0&sort=15,a                                                                                                                                                                                                                                                                                                                             |https://www.uu.nl/masters/masterprogrammas/vorm/voltijd-43/duur/2-jaar-3/duur/15-jaar-95/interessegebied/rechten-53/start/februari-40/vorm/deeltijd-44/interessegebied/media-en-cultuur-105                                                                                                                                                                                                                                     |0.0              |\n",
      "|https://glazenwassers.online/ov/lemele                                                                                                                                                                                                                                                                                                                                                                                                                                                         |https://vastgoedbeheer.online/dr/odoornerveen                                                                                                                                                                                                                                                                                                                                                                                   |0.0              |\n",
      "|https://www.uu.nl/masters/en/masterprogrammas/duur/2-jaar-3/interessegebied/lerarenopleidingen-108/interessegebied/scheikunde-153/duur/1-jaar-1/interessegebied/aardwetenschappen-143/interessegebied/biologie-151/start/februari-40/faculteit/betawetenschappen-20/hbo/ja-onder-voorwaarden-178                                                                                                                                                                                               |https://www.uu.nl/masters/en/masterprogrammas/duur/2-jaar-3/interessegebied/onderwijs-49/duur/1-jaar-1/hbo/nee-183/interessegebied/informatiewetenschappen-156/interessegebied/milieuwetenschappen-155/voertaal/engels-46/interessegebied/gezondheid-van-mens-en-dier-54/interessegebied/rechten-53                                                                                                                             |0.0              |\n",
      "|http://www.beursgoochelaars.nl/beursgoochelaar-borculo.html                                                                                                                                                                                                                                                                                                                                                                                                                                    |http://www.beursgoochelaars.nl/beursgoochelaar-kekerdom.html                                                                                                                                                                                                                                                                                                                                                                    |0.0              |\n",
      "|http://www.fangraphs.com/leaders.aspx?pos=ss&stats=bat&lg=all&qual=y&type=7&season=2013&month=0&season1=2013&ind=0&team=0&rost=0&age=0&filter=&players=0&sort=15,a                                                                                                                                                                                                                                                                                                                             |https://www.uu.nl/masters/masterprogrammas/start/september-41/start/5-x-jaar-401/interessegebied/literatuur-126/voertaal/engels-46/voertaal/nederlands-45/duur/2-jaar-3/vorm/deeltijd-44/interessegebied/economie-bestuur-en-organisatie-51                                                                                                                                                                                     |0.0              |\n",
      "|http://www.bikester.be/fietsen/mountainbike/blk-mrkt-bikes.html                                                                                                                                                                                                                                                                                                                                                                                                                                |https://www.bikester.be/fietsaccessoires/fietsgereedschap/odyssey.html                                                                                                                                                                                                                                                                                                                                                          |0.0              |\n",
      "|https://www.uu.nl/masters/en/masterprogrammas/duur/2-jaar-3/interessegebied/lerarenopleidingen-108/interessegebied/scheikunde-153/duur/1-jaar-1/interessegebied/aardwetenschappen-143/interessegebied/biologie-151/start/februari-40/faculteit/betawetenschappen-20/hbo/ja-onder-voorwaarden-178                                                                                                                                                                                               |https://www.uu.nl/masters/masterprogrammas/vorm/voltijd-43/duur/2-jaar-3/duur/15-jaar-95/interessegebied/rechten-53/start/februari-40/vorm/deeltijd-44/interessegebied/media-en-cultuur-105                                                                                                                                                                                                                                     |0.0              |\n",
      "|https://www.uu.nl/masters/masterprogrammas/start/september-41/start/5-x-jaar-401/interessegebied/literatuur-126/voertaal/engels-46/voertaal/nederlands-45/duur/2-jaar-3/vorm/deeltijd-44/interessegebied/economie-bestuur-en-organisatie-51                                                                                                                                                                                                                                                    |https://www.uu.nl/masters/masterprogrammas/vorm/voltijd-43/duur/2-jaar-3/duur/15-jaar-95/interessegebied/rechten-53/start/februari-40/vorm/deeltijd-44/interessegebied/media-en-cultuur-105                                                                                                                                                                                                                                     |0.0              |\n",
      "|https://warmtepomp-adviseur.nl/pasop/                                                                                                                                                                                                                                                                                                                                                                                                                                                          |https://warmtepomp-adviseur.nl/wormerland/                                                                                                                                                                                                                                                                                                                                                                                      |0.0              |\n",
      "|https://www.energiekostenberekenen.nl/nederland/noord-brabant/etten-leur/etten-leur/                                                                                                                                                                                                                                                                                                                                                                                                           |https://www.energiekostenberekenen.nl/nederland/zeeland/borsele/oudelande/                                                                                                                                                                                                                                                                                                                                                      |0.0              |\n",
      "|https://www.facebook-zoeken.nl/harald/                                                                                                                                                                                                                                                                                                                                                                                                                                                         |https://www.facebook-zoeken.nl/runar/                                                                                                                                                                                                                                                                                                                                                                                           |0.0              |\n",
      "|http://www.bikester.be/fietsen/mountainbike/blk-mrkt-bikes.html                                                                                                                                                                                                                                                                                                                                                                                                                                |http://www.bikester.be/fietskledij/fietsschoenen/manitou.html                                                                                                                                                                                                                                                                                                                                                                   |0.0              |\n",
      "|https://murenvochtig.vlaanderen/vochtbestrijding/Herenthout                                                                                                                                                                                                                                                                                                                                                                                                                                    |https://murenvochtig.vlaanderen/vochtbestrijding/Pittem                                                                                                                                                                                                                                                                                                                                                                         |0.0              |\n",
      "|http://rijmwoordenboek.vandale.nl/rijm/sfeeracties                                                                                                                                                                                                                                                                                                                                                                                                                                             |https://rijmwoordenboek.vandale.nl/rijm/dubbelmol                                                                                                                                                                                                                                                                                                                                                                               |0.0              |\n",
      "|https://steamcommunity.com/openid/login?l=dutch&openid_ns=http%3A%2F%2Fspecs.openid.net%2Fauth%2F2.0&openid_mode=checkid_setup&openid_return_to=http%3A%2F%2Fbeardingisles.arkers.io%2Fforum%2Fsteam%2Flogin&openid_realm=http%3A%2F%2Fbeardingisles.arkers.io&openid_ns_sreg=http%3A%2F%2Fopenid.net%2Fextensions%2Fsreg%2F1.1&openid_claimed_id=http%3A%2F%2Fspecs.openid.net%2Fauth%2F2.0%2Fidentifier_select&openid_identity=http%3A%2F%2Fspecs.openid.net%2Fauth%2F2.0%2Fidentifier_select|https://steamcommunity.com/openid/login?l=dutch&openid_ns=http%3A%2F%2Fspecs.openid.net%2Fauth%2F2.0&openid_mode=checkid_setup&openid_return_to=http%3A%2F%2Fpokemon-trainer.com%2Fregister%2Fsteam%3Fredirect%3D.&openid_realm=http%3A%2F%2Fpokemon-trainer.com&openid_identity=http%3A%2F%2Fspecs.openid.net%2Fauth%2F2.0%2Fidentifier_select&openid_claimed_id=http%3A%2F%2Fspecs.openid.net%2Fauth%2F2.0%2Fidentifier_select|0.0              |\n",
      "|https://www.kamagra-100mg.nl/kamagra-heumen/                                                                                                                                                                                                                                                                                                                                                                                                                                                   |https://www.kamagra-100mg.nl/kamagra-overasselt/                                                                                                                                                                                                                                                                                                                                                                                |0.0              |\n",
      "|https://www.uu.nl/masters/en/masterprogrammas/duur/2-jaar-3/interessegebied/onderwijs-49/duur/1-jaar-1/hbo/nee-183/interessegebied/informatiewetenschappen-156/interessegebied/milieuwetenschappen-155/voertaal/engels-46/interessegebied/gezondheid-van-mens-en-dier-54/interessegebied/rechten-53                                                                                                                                                                                            |https://www.uu.nl/masters/masterprogrammas/start/september-41/start/5-x-jaar-401/interessegebied/literatuur-126/voertaal/engels-46/voertaal/nederlands-45/duur/2-jaar-3/vorm/deeltijd-44/interessegebied/economie-bestuur-en-organisatie-51                                                                                                                                                                                     |0.0              |\n",
      "|http://www.entertainment-nederland.nl/entertainment-beldert.html                                                                                                                                                                                                                                                                                                                                                                                                                               |http://www.entertainment-nederland.nl/entertainment-hooge-zwaluwe.html                                                                                                                                                                                                                                                                                                                                                          |0.0              |\n",
      "|http://www.bikester.be/solden/fietsaccessoires/lestra.html                                                                                                                                                                                                                                                                                                                                                                                                                                     |https://www.bikester.be/solden/fietsaccessoires/bor-germany.html                                                                                                                                                                                                                                                                                                                                                                |0.0              |\n",
      "|https://ticketindonesia.info/nl/promo_vluchten_en_tickets_Banjarmasin_BDJ_naar_Penang_PEN_index.php                                                                                                                                                                                                                                                                                                                                                                                            |https://ticketindonesia.info/nl/promo_vluchten_en_tickets_Padang_PDG_naar_Wasior_WSR_index.php                                                                                                                                                                                                                                                                                                                                  |0.0              |\n",
      "+-----------------------------------------------------------------------------------------------------------------------------------------------------------------------------------------------------------------------------------------------------------------------------------------------------------------------------------------------------------------------------------------------------------------------------------------------------------------------------------------------+--------------------------------------------------------------------------------------------------------------------------------------------------------------------------------------------------------------------------------------------------------------------------------------------------------------------------------------------------------------------------------------------------------------------------------+-----------------+\n",
      "\n"
     ]
    }
   ],
   "source": [
    "duplicates.show(100, truncate=False)"
   ]
  },
  {
   "cell_type": "code",
   "execution_count": 85,
   "id": "3d070cd0",
   "metadata": {},
   "outputs": [
    {
     "name": "stderr",
     "output_type": "stream",
     "text": [
      "\r",
      "[Stage 220:>                                                        (0 + 1) / 1]\r",
      "\r",
      "                                                                                \r"
     ]
    },
    {
     "data": {
      "text/plain": [
       "[Row(text='Auto huren Bandar Abbas, BND goedkoop - Vergelijker van wagenverhuring Bandar Abbas (Iran) Jetcost.nl\\nAutoverhuring Bandar Abbas\\nVind uw goedkoop autoverhuur Bandar Abbas, Jetcost bergelijkt ogenblikkelijk duizende autoverhuurders Iran: Economisch, Compact, Wegverkeer, Mini, Break, Minibus, Comfort, Luxe. De vergelijker, Jetcost, is gespecialiseerd in de huur van wagens Bandar Abbas. Vind ook uw hotel Bandar Abbas en uw vlucht Bandar Abbas.\\nAuto huren Bandar Abbas: Vergelijk uw autohuur Bandar Abbas om de voordeligste prijs te ontdekken. Alle promoties en disounts voor de autoverhuring Bandar Abbas bevinden zich op de Jetcost vergelijker. Voor uw huur bij uw aankomst op de luchthaven, in een station of een stadscentrum, gebruik onze vergelijker voor autoverhuur Bandar Abbas om minder te betalen.Vergelijk alle categorieën huurwagens (economische, standaard, polyvalent of bedrijfsvoertuig) met automatische of handbediende versnellingsbak en met of zonder air conditioning en vind uw autoverhuring Bandar Abbas tegen lage prijs. Alle merken, modellen van voertuigen, verhuurders (Avis, Hertz, Europcar, Sixt, Alamo, Easycar...) en brokers (Autoeurope, Autoescape, Rentalcars, Holidays Auto,...) staan op onze vergelijker. Jetcost vergelijkt niet alleen de verhuringen Bandar Abbas maar ook uw autoverhuring Amsterdam, autoverhuring Eindhoven , autoverhuring Rotterdam')]"
      ]
     },
     "execution_count": 85,
     "metadata": {},
     "output_type": "execute_result"
    }
   ],
   "source": [
    "df.filter(col(\"url\") == \"http://www.jetcost.nl/autoverhuur-Bandar+Abbas,Iran.html\").select(\"text\").take(1)"
   ]
  },
  {
   "cell_type": "code",
   "execution_count": 57,
   "id": "7b95083c",
   "metadata": {},
   "outputs": [
    {
     "data": {
      "text/plain": [
       "[Row(text='Auto huren Dalyan, goedkoop - Vergelijker van wagenverhuring Dalyan (Turkije) Jetcost.nl\\nAutoverhuring Dalyan\\nVind uw goedkoop autoverhuur Dalyan, Jetcost bergelijkt ogenblikkelijk duizende autoverhuurders Turkije: Economisch, Compact, Wegverkeer, Mini, Break, Minibus, Comfort, Luxe. De vergelijker, Jetcost, is gespecialiseerd in de huur van wagens Dalyan. Vind ook uw hotel Dalyan en uw vlucht Dalian.\\nAuto huren Dalyan: Vergelijk uw autohuur Dalyan om de voordeligste prijs te ontdekken. Alle promoties en disounts voor de autoverhuring Dalyan bevinden zich op de Jetcost vergelijker. Voor uw huur bij uw aankomst op de luchthaven, in een station of een stadscentrum, gebruik onze vergelijker voor autoverhuur Dalyan om minder te betalen.Vergelijk alle categorieën huurwagens (economische, standaard, polyvalent of bedrijfsvoertuig) met automatische of handbediende versnellingsbak en met of zonder air conditioning en vind uw autoverhuring Dalyan tegen lage prijs. Alle merken, modellen van voertuigen, verhuurders (Avis, Hertz, Europcar, Sixt, Alamo, Easycar...) en brokers (Autoeurope, Autoescape, Rentalcars, Holidays Auto,...) staan op onze vergelijker. Jetcost vergelijkt niet alleen de verhuringen Dalyan maar ook uw autoverhuring Amsterdam, autoverhuring Eindhoven , autoverhuring Rotterdam')]"
      ]
     },
     "execution_count": 57,
     "metadata": {},
     "output_type": "execute_result"
    }
   ],
   "source": [
    "df.filter(col(\"url\") == \"http://www.jetcost.nl/autoverhuur-Dalyan,Turkije.html\").select(\"text\").take(1)"
   ]
  },
  {
   "cell_type": "code",
   "execution_count": 61,
   "id": "2bab4b1c",
   "metadata": {},
   "outputs": [
    {
     "data": {
      "text/plain": [
       "[Row(text='Kamagra Overasselt online kopen\\n| kamagea | Kamagra Overasselt\\nKamagra Overasselt\\nZoekt u Kamagra Overasselt? Dan bent u bij kamagrakopen.nl aan het juiste adres. Kamagra kopen is een erectiemiddelen pharmacy die zich heeft gespecialiseerd in met name Kamagra maar ook een wijd assortiment aan andere erectiemiddelen levert. Wilt u snel de voor u juiste erectiepil proberen? Dan raden wij u aan om via deze link ons assortiment te bekijken. Wij bieden onze Kamagra in Den Haag aan en ook uiteraard in alle grote steden van Overasselt bieden wij onze erectiemiddelen aan.\\nDe voordelen van Kamagra Overasselt:\\nKamagra Overasselt Service\\nKamagra Overasselt staat bekend om de snelle en sublieme service. Alle erectiemiddelen zijn zorgvuldig door ons geselecteerd om uw sexleven een optimale update te geven.. Al onze erectiemiddelen worden geselecteerd op diverse punten zoals werkzaamheid, geringe bijwerkingen en effectiviteit. Al onze inkopen controleren wij zorgvuldig voor u voor ze verzonden worden. Wij nemen alleen genoegen met de beste kwaliteit en daar profiteert u van! Wij onderhouden goede contacten met onze leveranciers en we weten alle ins en outs van de merken en producten die wij leveren. Hierdoor zijn wij in staat om een zeer goede match te maken met de wensen die u als klant heeft. Indien u speciale wensen heeft neem dan gerust contact op met een van onze medewerkers zodat wij u verder kunnen begeleiden in het maken van uw keuze.\\nOnze Website is uiteraard 24 uur te bezoeken zodat u ten alle tijden uw bestelling op Kamagra Overasselt kan maken. Binnen de normale kantoortijden is het mogelijk om via 1 van onze medewerkers in contact te treden voor een advies. Houd u er rekening mee dat na kantoortijden u niet live online kunt overleggen met Kamagra Overasselt.\\nOm u te overtuigen waarom u bij Kamagra Overasselt moet bestellen staan hier nog even alle pluspunten op een rijtje:\\nKamagra Overasselt heeft goede ervaringen met de navolgende erectiemiddelen:')]"
      ]
     },
     "execution_count": 61,
     "metadata": {},
     "output_type": "execute_result"
    }
   ],
   "source": [
    "df.filter(col(\"url\") == \"https://www.kamagra-100mg.nl/kamagra-overasselt/\").select(\"text\").take(1)"
   ]
  },
  {
   "cell_type": "code",
   "execution_count": 58,
   "id": "981c3277",
   "metadata": {},
   "outputs": [
    {
     "data": {
      "text/plain": [
       "[Row(text='Kamagra Heumen online kopen\\n| kamagea | Kamagra Heumen\\nKamagra Heumen\\nZoekt u Kamagra Heumen? Dan bent u bij kamagrakopen.nl aan het juiste adres. Kamagra kopen is een erectiemiddelen pharmacy die zich heeft gespecialiseerd in met name Kamagra maar ook een wijd assortiment aan andere erectiemiddelen levert. Wilt u snel de voor u juiste erectiepil proberen? Dan raden wij u aan om via deze link ons assortiment te bekijken. Wij bieden onze Kamagra in Den Haag aan en ook uiteraard in alle grote steden van Heumen bieden wij onze erectiemiddelen aan.\\nDe voordelen van Kamagra Heumen:\\nKamagra Heumen Service\\nKamagra Heumen staat bekend om de snelle en sublieme service. Alle erectiemiddelen zijn zorgvuldig door ons geselecteerd om uw sexleven een optimale update te geven.. Al onze erectiemiddelen worden geselecteerd op diverse punten zoals werkzaamheid, geringe bijwerkingen en effectiviteit. Al onze inkopen controleren wij zorgvuldig voor u voor ze verzonden worden. Wij nemen alleen genoegen met de beste kwaliteit en daar profiteert u van! Wij onderhouden goede contacten met onze leveranciers en we weten alle ins en outs van de merken en producten die wij leveren. Hierdoor zijn wij in staat om een zeer goede match te maken met de wensen die u als klant heeft. Indien u speciale wensen heeft neem dan gerust contact op met een van onze medewerkers zodat wij u verder kunnen begeleiden in het maken van uw keuze.\\nOnze Website is uiteraard 24 uur te bezoeken zodat u ten alle tijden uw bestelling op Kamagra Heumen kan maken. Binnen de normale kantoortijden is het mogelijk om via 1 van onze medewerkers in contact te treden voor een advies. Houd u er rekening mee dat na kantoortijden u niet live online kunt overleggen met Kamagra Heumen.\\nOm u te overtuigen waarom u bij Kamagra Heumen moet bestellen staan hier nog even alle pluspunten op een rijtje:\\nKamagra Heumen heeft goede ervaringen met de navolgende erectiemiddelen:')]"
      ]
     },
     "execution_count": 58,
     "metadata": {},
     "output_type": "execute_result"
    }
   ],
   "source": [
    "df.filter(col(\"url\") == \"https://www.kamagra-100mg.nl/kamagra-heumen/\").select(\"text\").take(1)"
   ]
  },
  {
   "cell_type": "code",
   "execution_count": 15,
   "id": "027cbc2b",
   "metadata": {},
   "outputs": [
    {
     "name": "stderr",
     "output_type": "stream",
     "text": [
      "                                                                                \r"
     ]
    }
   ],
   "source": [
    "df.write.format(\"json\").save(\"/tmp/test\")"
   ]
  },
  {
   "cell_type": "code",
   "execution_count": null,
   "id": "8b710d66",
   "metadata": {},
   "outputs": [],
   "source": []
  },
  {
   "cell_type": "code",
   "execution_count": 102,
   "id": "af566563",
   "metadata": {},
   "outputs": [],
   "source": [
    "def poly(x):\n",
    "    n_dup = 0.000000036600* x**2 + 0.001349576537 * x -13.155795353500\n",
    "    print(f\"n_dups = {n_dup}, percentage = {n_dup / x}\")"
   ]
  },
  {
   "cell_type": "code",
   "execution_count": 103,
   "id": "ec0997c7",
   "metadata": {},
   "outputs": [
    {
     "name": "stdout",
     "output_type": "stream",
     "text": [
      "n_dups = 3.999970016499997, percentage = 0.0003999970016499997\n"
     ]
    }
   ],
   "source": [
    "poly(10000)"
   ]
  },
  {
   "cell_type": "code",
   "execution_count": 104,
   "id": "3623c0d8",
   "metadata": {},
   "outputs": [
    {
     "name": "stdout",
     "output_type": "stream",
     "text": [
      "n_dups = 43.4586180715, percentage = 0.00173834472286\n"
     ]
    }
   ],
   "source": [
    "poly(25000)"
   ]
  },
  {
   "cell_type": "code",
   "execution_count": 105,
   "id": "25057b7a",
   "metadata": {},
   "outputs": [
    {
     "name": "stdout",
     "output_type": "stream",
     "text": [
      "n_dups = 329.05032760649993, percentage = 0.004113129095081249\n"
     ]
    }
   ],
   "source": [
    "poly(80000)\n"
   ]
  },
  {
   "cell_type": "code",
   "execution_count": 106,
   "id": "a97a2d20",
   "metadata": {},
   "outputs": [
    {
     "name": "stdout",
     "output_type": "stream",
     "text": [
      "n_dups = 234347952.9671646, percentage = 2.929349412089558\n"
     ]
    }
   ],
   "source": [
    "num = 1000*80000\n",
    "poly(num)"
   ]
  },
  {
   "cell_type": "code",
   "execution_count": null,
   "id": "5723a0ad",
   "metadata": {},
   "outputs": [],
   "source": []
  }
 ],
 "metadata": {
  "kernelspec": {
   "display_name": "Python 3",
   "language": "python",
   "name": "python3"
  },
  "language_info": {
   "codemirror_mode": {
    "name": "ipython",
    "version": 3
   },
   "file_extension": ".py",
   "mimetype": "text/x-python",
   "name": "python",
   "nbconvert_exporter": "python",
   "pygments_lexer": "ipython3",
   "version": "3.8.5"
  }
 },
 "nbformat": 4,
 "nbformat_minor": 5
}
